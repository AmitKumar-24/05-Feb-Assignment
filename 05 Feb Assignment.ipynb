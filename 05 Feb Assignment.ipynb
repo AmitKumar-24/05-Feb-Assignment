{
 "cells": [
  {
   "cell_type": "markdown",
   "id": "6fbc465d-8600-4256-88b0-1610d7e6aac4",
   "metadata": {},
   "source": [
    "Q1. Explain Class and Object with respect to Object-Oriented Programming. Give a suitable example."
   ]
  },
  {
   "cell_type": "code",
   "execution_count": null,
   "id": "4108c41a-7682-4217-83fc-c58e4ea38052",
   "metadata": {},
   "outputs": [],
   "source": [
    "Ans-> Classes provides a means of building data and functionality together. creating a new class creates a new type of object, allowing new instance of that type to be made. each class instance can have attributes attached to it for maintaining its state. Class instance can also have methods for modifying its state.\n",
    "Syntax of class ::\n",
    "class ClassName:\n",
    "    <statement-1>\n",
    "    .\n",
    "    .\n",
    "    .\n",
    "    <statement-N>\n",
    "Objects have individually, and multiple names can be bound to the same object. class objects support two kinds of operations: attribute reference and instantiation.\n",
    "        Attribute references use the standard syntax used fo all attributes references in python: (obj.name) valid attribute names are all the names that were in the class's namespaces when the class object was created. "
   ]
  },
  {
   "cell_type": "code",
   "execution_count": 2,
   "id": "173a2d99-b334-45c8-bc19-890c51fa459a",
   "metadata": {},
   "outputs": [],
   "source": [
    "class dog:\n",
    "    def __init__(self, name, breed, eating):\n",
    "        self.name =name\n",
    "        self.breed = breed\n",
    "        self.eating = eating"
   ]
  },
  {
   "cell_type": "code",
   "execution_count": 3,
   "id": "c2107757-f745-402b-8a31-8a0dd78ecd23",
   "metadata": {},
   "outputs": [],
   "source": [
    "d = dog('Jack', 'bulldog', 'dog is eating the biscuits')"
   ]
  },
  {
   "cell_type": "code",
   "execution_count": 7,
   "id": "a538002d-8fb0-4321-b1c0-3cc2b1231669",
   "metadata": {},
   "outputs": [
    {
     "data": {
      "text/plain": [
       "('Jack', 'bulldog', 'dog is eating the biscuits')"
      ]
     },
     "execution_count": 7,
     "metadata": {},
     "output_type": "execute_result"
    }
   ],
   "source": [
    "d.name, d.breed, d.eating"
   ]
  },
  {
   "cell_type": "markdown",
   "id": "e6df5e3e-eb01-491b-b8ac-b9f7f84711ff",
   "metadata": {},
   "source": [
    "Q2. Name the four pillars of OOPs."
   ]
  },
  {
   "cell_type": "markdown",
   "id": "437bac3f-de6e-4b13-842a-5111193e8804",
   "metadata": {},
   "source": [
    "Ans-> The four pillars of Object-oriented-programmings ars - \n",
    "1.Inheritance \n",
    "2.Polymorphism \n",
    "3.Encapsulation \n",
    "4.Abstraction "
   ]
  },
  {
   "cell_type": "markdown",
   "id": "0c5bbf29-4d18-4370-a751-f763110f0bc1",
   "metadata": {},
   "source": [
    "Q3. Explain why the __init__() function is used. Give a suitable example. "
   ]
  },
  {
   "cell_type": "markdown",
   "id": "8b9c8e77-320c-41f2-a3ec-bff36f24b5f3",
   "metadata": {},
   "source": [
    "Ans->the init() function is a constructor in python. constructors are used to initializing the object's state. the task of constructors is to initialize to the data members of the class when an object of the class is created. like methods, a constructor also contains a collection of statements that are executed at the time of object creation. it is run as soon as an object of a class is instantiated. the method is useful to do any initialization you want to do with your object. "
   ]
  },
  {
   "cell_type": "code",
   "execution_count": 9,
   "id": "e92a7b7b-53d2-44d1-9c56-856a6c4e9499",
   "metadata": {},
   "outputs": [
    {
     "name": "stdout",
     "output_type": "stream",
     "text": [
      "hello, my name is  Rajesh\n"
     ]
    }
   ],
   "source": [
    "class person:\n",
    "    def __init__(self, name):\n",
    "        self.name = name\n",
    "        \n",
    "    def say_hello(self):\n",
    "        print('hello, my name is ', self.name)\n",
    "\n",
    "p = person('Rajesh')\n",
    "p.say_hello()"
   ]
  },
  {
   "cell_type": "markdown",
   "id": "3a298ebb-5790-455b-b1b1-6065a32a23df",
   "metadata": {},
   "source": [
    "Q4. Why self is used in OOPs? "
   ]
  },
  {
   "cell_type": "markdown",
   "id": "b3b0c275-c30b-48d3-9b46-2d4c08b55495",
   "metadata": {},
   "source": [
    "Ans-> self represents the instance of the class. by usign the 'self' we can access the attributes and methodsof the class in python. it binds the attributes and methods of the class in python. it binds the attributes with the given arguments. the reasion you need to use self. is because python does not use the syntax to refer to instance attributes. python decided to do methods in a way that makes the instance to which the method belongs be passed automatically, but not received automatically:\n",
    "the first parameter of methods is the instance the method is called on."
   ]
  },
  {
   "cell_type": "markdown",
   "id": "5ed738ff-8c72-4f38-82cb-e4a535a20c01",
   "metadata": {},
   "source": [
    "Q5. What is inheritance? Give an example for each type of inheritance. \n"
   ]
  },
  {
   "cell_type": "markdown",
   "id": "a0908d34-e917-4e39-b24d-81b9d520694c",
   "metadata": {},
   "source": [
    "Ans-> Inheritance is a process of obtaining properties and characters of another class. in this hierarchical order, the class which inherits another class is called subclass or child class, and the other class is the parent class. types of inheritance are:\n",
    "1. Single Inheritance : single inheritance enables a derived class to inherit properties from a single parent class, this enables code resuability and the addition of new features to exiting code."
   ]
  },
  {
   "cell_type": "code",
   "execution_count": 11,
   "id": "9fbaefc7-4548-40ab-8c64-43c7fb863d62",
   "metadata": {},
   "outputs": [
    {
     "name": "stdout",
     "output_type": "stream",
     "text": [
      "this function is in parent class.\n",
      "this function is in child class.\n"
     ]
    }
   ],
   "source": [
    "#single inheritance\n",
    "#base class\n",
    "class parent:\n",
    "    def fun1(self):\n",
    "        print('this function is in parent class.')\n",
    "#derived class\n",
    "class child(parent):\n",
    "    def fun2(self):\n",
    "        print('this function is in child class.')\n",
    "        \n",
    "obj = child()\n",
    "obj.fun1()\n",
    "obj.fun2()"
   ]
  },
  {
   "cell_type": "markdown",
   "id": "661edb0b-0a68-45fb-bc42-39990833d8bf",
   "metadata": {},
   "source": [
    "2. Multiple Inheritance when a class can be derived from more than one base class this type of inheritance is called multiple inheritances. in multiple inheritances, all the features of the base classes are inherited into the dericed class."
   ]
  },
  {
   "cell_type": "code",
   "execution_count": 13,
   "id": "f0d08ec8-ea3f-4382-9d12-989ce9dd78de",
   "metadata": {},
   "outputs": [
    {
     "name": "stdout",
     "output_type": "stream",
     "text": [
      "father :  Ram\n",
      "mother :  Sita\n"
     ]
    }
   ],
   "source": [
    "#multiple inheritances\n",
    "#base class 1\n",
    "class father:\n",
    "    fatherName = 'Ram'\n",
    "    \n",
    "    def father(self):\n",
    "        print(self.father)\n",
    "        \n",
    "#base class 2\n",
    "class mother:\n",
    "    motherName = 'Sita'\n",
    "    \n",
    "    def mother(self):\n",
    "        print(self.mother)\n",
    "\n",
    "#derived class\n",
    "class son(father, mother):\n",
    "    def parents(self):\n",
    "        print('father : ', self.fatherName)\n",
    "        print('mother : ', self.motherName)\n",
    "        \n",
    "s1 = son()\n",
    "s1.parents()"
   ]
  },
  {
   "cell_type": "markdown",
   "id": "69d79bca-bd3b-45cf-9cec-60baef6e6f62",
   "metadata": {},
   "source": [
    "3. Multilevel Inheritance of the base class and the derived are further inherited into the new derived class. this is similar to a relationship representing a child a grandfather"
   ]
  },
  {
   "cell_type": "code",
   "execution_count": 21,
   "id": "c2a220d7-69cb-43e5-b581-e7c13dd06eb5",
   "metadata": {},
   "outputs": [
    {
     "name": "stdout",
     "output_type": "stream",
     "text": [
      "Grandfather name : Rajesh\n",
      "Father name : Ram\n",
      "Son name : Ajay\n"
     ]
    }
   ],
   "source": [
    "#multilevel inheritance\n",
    "#base class\n",
    "class grandFather:\n",
    "    def __init__(self, grandFatherName):\n",
    "        self.grandFatherName = grandFatherName\n",
    "\n",
    "\n",
    "class father(grandFather):\n",
    "    def __init__(self, fatherName, grandFatherName):\n",
    "        self.fatherName = fatherName\n",
    "\n",
    "        grandFather.__init__(self, grandFatherName)\n",
    "\n",
    "class son(father):\n",
    "    def __init__(self, sonName, fatherName, grandFatherName):\n",
    "        self.sonName = sonName\n",
    " \n",
    "        father.__init__(self, fatherName, grandFatherName)\n",
    " \n",
    "    def print_name(self):\n",
    "        print('Grandfather name :', self.grandFatherName)\n",
    "        print(\"Father name :\", self.fatherName)\n",
    "        print(\"Son name :\", self.sonName)\n",
    " \n",
    " \n",
    "#  Driver code\n",
    "s1 = son('Ajay', 'Ram', 'Rajesh')\n",
    "s1.print_name()"
   ]
  },
  {
   "cell_type": "markdown",
   "id": "60744bbd-40c1-4351-adba-632520471d03",
   "metadata": {},
   "source": [
    "4. Hierarchical Inheritance : when more than one derived class are created from a single base class. this type of inheritance is called hierarchical inheritance. "
   ]
  },
  {
   "cell_type": "code",
   "execution_count": 23,
   "id": "9af0c673-ecb2-46ab-990c-786ce93f1c6e",
   "metadata": {},
   "outputs": [
    {
     "name": "stdout",
     "output_type": "stream",
     "text": [
      "this function is in parent class.\n",
      "this function is in child class 1.\n",
      "this function is in parent class.\n",
      "this function is in child class 2\n"
     ]
    }
   ],
   "source": [
    "#Hierarchical inheritance\n",
    "#base class\n",
    "class parent:\n",
    "    def fun1(self):\n",
    "        print('this function is in parent class.')\n",
    "#derived class1\n",
    "class child1(parent):\n",
    "    def fun2(self):\n",
    "        print('this function is in child class 1.')\n",
    "#derived class2\n",
    "class child2(parent):\n",
    "    def fun3(self):\n",
    "        print('this function is in child class 2')\n",
    "        \n",
    "obj1 = child1()\n",
    "obj2 = child2()\n",
    "obj1.fun1()\n",
    "obj1.fun2()\n",
    "obj2.fun1()\n",
    "obj2.fun3()"
   ]
  },
  {
   "cell_type": "markdown",
   "id": "8c267331-7149-4c03-82b2-f665e9cc2449",
   "metadata": {},
   "source": [
    "5. Hybrid Inheritance : inheritance consisting of multiple types of inheritance is class hybird inheritance."
   ]
  },
  {
   "cell_type": "code",
   "execution_count": 1,
   "id": "224bd24c-94e8-47f0-bbf9-747ff1497db6",
   "metadata": {},
   "outputs": [
    {
     "name": "stdout",
     "output_type": "stream",
     "text": [
      "this function is in school\n",
      "this function is in student 1\n"
     ]
    }
   ],
   "source": [
    "#hybrid inheritance\n",
    "class school:\n",
    "    def fun1(self):\n",
    "        print('this function is in school')\n",
    "\n",
    "class student1(school):\n",
    "    def fun2(self):\n",
    "        print('this function is in student 1')\n",
    "        \n",
    "class student2(school):\n",
    "    def fun3(self):\n",
    "        print('this function is in student 2')\n",
    "        \n",
    "class student3(student1, school):\n",
    "    def fun4(self):\n",
    "        print('this function is in student 3')\n",
    "\n",
    "obj = student3()\n",
    "obj.fun1()\n",
    "obj.fun2()"
   ]
  },
  {
   "cell_type": "code",
   "execution_count": null,
   "id": "17fc098e-d060-4b51-b5e6-0d79a10dd8af",
   "metadata": {},
   "outputs": [],
   "source": []
  }
 ],
 "metadata": {
  "kernelspec": {
   "display_name": "Python 3 (ipykernel)",
   "language": "python",
   "name": "python3"
  },
  "language_info": {
   "codemirror_mode": {
    "name": "ipython",
    "version": 3
   },
   "file_extension": ".py",
   "mimetype": "text/x-python",
   "name": "python",
   "nbconvert_exporter": "python",
   "pygments_lexer": "ipython3",
   "version": "3.10.8"
  }
 },
 "nbformat": 4,
 "nbformat_minor": 5
}
